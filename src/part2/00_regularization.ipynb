{
 "cells": [
  {
   "cell_type": "markdown",
   "metadata": {},
   "source": [
    "# Day 09. Exercise 00\n",
    "# Regularization"
   ]
  },
  {
   "cell_type": "markdown",
   "metadata": {},
   "source": [
    "## 0. Imports"
   ]
  },
  {
   "cell_type": "code",
   "execution_count": 1,
   "metadata": {},
   "outputs": [],
   "source": [
    "import pandas as pd\n",
    "import numpy as np\n",
    "from sklearn.linear_model import LogisticRegression\n",
    "from sklearn.metrics import accuracy_score \n",
    "from sklearn.preprocessing import StandardScaler\n",
    "from sklearn.svm import SVC\n",
    "from sklearn.model_selection import train_test_split\n",
    "from sklearn.model_selection import StratifiedKFold\n",
    "from sklearn.model_selection import cross_val_score\n",
    "from sklearn.tree import DecisionTreeClassifier\n",
    "from sklearn.ensemble import RandomForestClassifier\n",
    "import joblib\n"
   ]
  },
  {
   "cell_type": "markdown",
   "metadata": {},
   "source": [
    "## 1. Preprocessing"
   ]
  },
  {
   "cell_type": "markdown",
   "metadata": {},
   "source": [
    "1. Read the file `dayofweek.csv` that you used in the previous day to a dataframe.\n",
    "2. Using `train_test_split` with parameters `test_size=0.2`, `random_state=21` get `X_train`, `y_train`, `X_test`, `y_test`. Use the additional parameter `stratify`."
   ]
  },
  {
   "cell_type": "code",
   "execution_count": 2,
   "metadata": {},
   "outputs": [],
   "source": [
    "df = pd.read_csv('../../datasets/dayofweek.csv')"
   ]
  },
  {
   "cell_type": "code",
   "execution_count": 3,
   "metadata": {},
   "outputs": [],
   "source": [
    "X=df.drop('dayofweek', axis=1)\n",
    "y = df['dayofweek']\n",
    "X_train, X_test, y_train, y_test = train_test_split(X, y, test_size=0.2, random_state=21, stratify=y)"
   ]
  },
  {
   "cell_type": "markdown",
   "metadata": {},
   "source": [
    "## 2. Logreg regularization"
   ]
  },
  {
   "cell_type": "markdown",
   "metadata": {},
   "source": [
    "### a. Default regularization"
   ]
  },
  {
   "cell_type": "markdown",
   "metadata": {},
   "source": [
    "1. Train a baseline model with the only parameters `random_state=21`, `fit_intercept=False`.\n",
    "2. Use stratified K-fold cross-validation with `10` splits to evaluate the accuracy of the model\n",
    "\n",
    "\n",
    "The result of the code where you trained and evaluated the baseline model should be exactly like this (use `%%time` to get the info about how long it took to run the cell):\n",
    "\n",
    "```\n",
    "train -  0.62902   |   valid -  0.59259\n",
    "train -  0.64633   |   valid -  0.62963\n",
    "train -  0.63479   |   valid -  0.56296\n",
    "train -  0.65622   |   valid -  0.61481\n",
    "train -  0.63397   |   valid -  0.57778\n",
    "train -  0.64056   |   valid -  0.59259\n",
    "train -  0.64138   |   valid -  0.65926\n",
    "train -  0.65952   |   valid -  0.56296\n",
    "train -  0.64333   |   valid -  0.59701\n",
    "train -  0.63674   |   valid -  0.62687\n",
    "Average accuracy on crossval is 0.60165\n",
    "Std is 0.02943\n",
    "```"
   ]
  },
  {
   "cell_type": "code",
   "execution_count": 4,
   "metadata": {},
   "outputs": [
    {
     "name": "stdout",
     "output_type": "stream",
     "text": [
      "CPU times: user 11 μs, sys: 0 ns, total: 11 μs\n",
      "Wall time: 13.1 μs\n"
     ]
    }
   ],
   "source": [
    "%%time\n",
    "logreg = LogisticRegression(random_state=21, fit_intercept=False)"
   ]
  },
  {
   "cell_type": "code",
   "execution_count": 5,
   "metadata": {},
   "outputs": [
    {
     "name": "stdout",
     "output_type": "stream",
     "text": [
      "train - 0.63546 | valid - 0.65089\n",
      "train - 0.65326 | valid - 0.60947\n",
      "train - 0.63942 | valid - 0.63314\n",
      "train - 0.63283 | valid - 0.57988\n",
      "train - 0.65590 | valid - 0.57988\n",
      "train - 0.64535 | valid - 0.62130\n",
      "train - 0.63834 | valid - 0.60714\n",
      "train - 0.63702 | valid - 0.59524\n",
      "train - 0.64295 | valid - 0.68452\n",
      "train - 0.63900 | valid - 0.56548\n",
      "Average accuracy on crossval is 0.61269\n",
      "std is 0.03441\n",
      "CPU times: user 549 ms, sys: 26.6 ms, total: 576 ms\n",
      "Wall time: 701 ms\n"
     ]
    }
   ],
   "source": [
    "%%time\n",
    "def crossval(model, n_splits, X, y):\n",
    "    cv = StratifiedKFold(n_splits=n_splits, random_state=21, shuffle=True)\n",
    "    score = cross_val_score(model, X,y, cv=cv)\n",
    "    accuracy_train_list = []\n",
    "    accuracy_test_list = []\n",
    "    \n",
    "    for train_index, test_index in cv.split(X, y):\n",
    "        X_train, X_test = X.iloc[train_index], X.iloc[test_index]\n",
    "        y_train, y_test = y.iloc[train_index], y.iloc[test_index]\n",
    "\n",
    "        model.fit(X_train, y_train)\n",
    "        train_predict = model.predict(X_train)\n",
    "        test_predict = model.predict(X_test)\n",
    "        accuracy_train = accuracy_score(y_train, train_predict)\n",
    "        accuracy_test = accuracy_score(y_test, test_predict)\n",
    "        \n",
    "        accuracy_train_list.append(accuracy_train)\n",
    "        accuracy_test_list.append(accuracy_test)\n",
    "        print(f\"train - {accuracy_train:.5f} | valid - {accuracy_test:.5f}\")\n",
    "\n",
    "    print(f\"Average accuracy on crossval is {np.mean(accuracy_test_list):.5f}\")\n",
    "    print(f\"std is {score.std():.5f}\")\n",
    "\n",
    "crossval(logreg, 10, X, y)"
   ]
  },
  {
   "cell_type": "markdown",
   "metadata": {},
   "source": [
    "### b. Optimizing regularization parameters"
   ]
  },
  {
   "cell_type": "markdown",
   "metadata": {},
   "source": [
    "1. In the cells below try different values of penalty: `none`, `l1`, `l2` – you can change the values of solver too."
   ]
  },
  {
   "cell_type": "code",
   "execution_count": 6,
   "metadata": {},
   "outputs": [
    {
     "name": "stdout",
     "output_type": "stream",
     "text": [
      "train - 0.66777 | valid - 0.68639\n",
      "train - 0.66051 | valid - 0.65089\n",
      "train - 0.66183 | valid - 0.68639\n",
      "train - 0.67106 | valid - 0.59763\n",
      "train - 0.67436 | valid - 0.58580\n",
      "train - 0.66051 | valid - 0.63314\n",
      "train - 0.67062 | valid - 0.61905\n",
      "train - 0.65547 | valid - 0.61310\n",
      "train - 0.65744 | valid - 0.67857\n",
      "train - 0.66469 | valid - 0.58333\n",
      "Average accuracy on crossval is 0.63343\n",
      "std is 0.03825\n",
      "CPU times: user 1min, sys: 502 ms, total: 1min 1s\n",
      "Wall time: 1min 6s\n"
     ]
    }
   ],
   "source": [
    "%%time\n",
    "logreg = LogisticRegression(random_state=21, fit_intercept=False, penalty=None, solver='saga', max_iter=10000)\n",
    "crossval(logreg, 10, X, y)"
   ]
  },
  {
   "cell_type": "code",
   "execution_count": 7,
   "metadata": {},
   "outputs": [
    {
     "name": "stdout",
     "output_type": "stream",
     "text": [
      "train - 0.63546 | valid - 0.65089\n",
      "train - 0.65326 | valid - 0.60947\n",
      "train - 0.63942 | valid - 0.63905\n",
      "train - 0.63283 | valid - 0.57988\n",
      "train - 0.65590 | valid - 0.57988\n",
      "train - 0.64469 | valid - 0.61538\n",
      "train - 0.63702 | valid - 0.60714\n",
      "train - 0.63636 | valid - 0.59524\n",
      "train - 0.64295 | valid - 0.68452\n",
      "train - 0.63900 | valid - 0.56548\n",
      "Average accuracy on crossval is 0.61269\n",
      "std is 0.03471\n",
      "CPU times: user 2.22 s, sys: 24.8 ms, total: 2.24 s\n",
      "Wall time: 2.38 s\n"
     ]
    }
   ],
   "source": [
    "%%time\n",
    "logreg = LogisticRegression(random_state=21, fit_intercept=False, penalty='l2', solver='saga', max_iter=10000)\n",
    "crossval(logreg, 10, X, y)"
   ]
  },
  {
   "cell_type": "code",
   "execution_count": 8,
   "metadata": {},
   "outputs": [
    {
     "name": "stdout",
     "output_type": "stream",
     "text": [
      "train - 0.64008 | valid - 0.63905\n",
      "train - 0.64601 | valid - 0.63314\n",
      "train - 0.64008 | valid - 0.65089\n",
      "train - 0.63678 | valid - 0.57988\n",
      "train - 0.65458 | valid - 0.56805\n",
      "train - 0.64140 | valid - 0.61538\n",
      "train - 0.64954 | valid - 0.60714\n",
      "train - 0.62978 | valid - 0.57738\n",
      "train - 0.62912 | valid - 0.67262\n",
      "train - 0.64625 | valid - 0.55952\n",
      "Average accuracy on crossval is 0.61031\n",
      "std is 0.03645\n",
      "CPU times: user 9.7 s, sys: 66.4 ms, total: 9.77 s\n",
      "Wall time: 9.95 s\n"
     ]
    }
   ],
   "source": [
    "%%time\n",
    "logreg = LogisticRegression(random_state=21, fit_intercept=False, penalty='l1', solver='saga', max_iter=10000)\n",
    "crossval(logreg, 10, X, y)"
   ]
  },
  {
   "cell_type": "markdown",
   "metadata": {},
   "source": [
    "## 3. SVM regularization"
   ]
  },
  {
   "cell_type": "markdown",
   "metadata": {},
   "source": [
    "### a. Default regularization"
   ]
  },
  {
   "cell_type": "markdown",
   "metadata": {},
   "source": [
    "1. Train a baseline model with the only parameters `probability=True`, `kernel='linear'`, `random_state=21`.\n",
    "2. Use stratified K-fold cross-validation with `10` splits to evaluate the accuracy of the model.\n",
    "3. The format of the result of the code where you trained and evaluated the baseline model should be similar to what you have got for the logreg."
   ]
  },
  {
   "cell_type": "code",
   "execution_count": 9,
   "metadata": {},
   "outputs": [
    {
     "name": "stdout",
     "output_type": "stream",
     "text": [
      "train - 0.70138 | valid - 0.71598\n",
      "train - 0.69677 | valid - 0.68639\n",
      "train - 0.70402 | valid - 0.71006\n",
      "train - 0.69941 | valid - 0.63905\n",
      "train - 0.71127 | valid - 0.62130\n",
      "train - 0.70336 | valid - 0.69822\n",
      "train - 0.69038 | valid - 0.67857\n",
      "train - 0.70487 | valid - 0.69048\n",
      "train - 0.69895 | valid - 0.71429\n",
      "train - 0.70026 | valid - 0.61905\n",
      "Average accuracy on crossval is 0.67734\n",
      "std is 0.03553\n",
      "CPU times: user 7.43 s, sys: 57.6 ms, total: 7.49 s\n",
      "Wall time: 7.72 s\n"
     ]
    }
   ],
   "source": [
    "%%time\n",
    "svc = SVC(random_state=21, kernel='linear', probability=True)\n",
    "crossval(svc, 10, X, y)"
   ]
  },
  {
   "cell_type": "markdown",
   "metadata": {},
   "source": [
    "### b. Optimizing regularization parameters"
   ]
  },
  {
   "cell_type": "markdown",
   "metadata": {},
   "source": [
    "1. In the cells below try different values of the parameter `C`."
   ]
  },
  {
   "cell_type": "code",
   "execution_count": 10,
   "metadata": {},
   "outputs": [
    {
     "name": "stdout",
     "output_type": "stream",
     "text": [
      "train - 0.71457 | valid - 0.71598\n",
      "train - 0.70929 | valid - 0.68047\n",
      "train - 0.71589 | valid - 0.70414\n",
      "train - 0.70336 | valid - 0.65089\n",
      "train - 0.71852 | valid - 0.62130\n",
      "train - 0.71589 | valid - 0.70414\n",
      "train - 0.70224 | valid - 0.66667\n",
      "train - 0.74111 | valid - 0.73810\n",
      "train - 0.70487 | valid - 0.71429\n",
      "train - 0.71212 | valid - 0.64286\n",
      "Average accuracy on crossval is 0.68388\n",
      "std is 0.03565\n",
      "CPU times: user 8.84 s, sys: 107 ms, total: 8.95 s\n",
      "Wall time: 9.35 s\n"
     ]
    }
   ],
   "source": [
    "%%time\n",
    "svc = SVC(random_state=21, kernel='linear', probability=True, C=2.0)\n",
    "crossval(svc, 10, X, y)"
   ]
  },
  {
   "cell_type": "code",
   "execution_count": 11,
   "metadata": {},
   "outputs": [
    {
     "name": "stdout",
     "output_type": "stream",
     "text": [
      "train - 0.74225 | valid - 0.74556\n",
      "train - 0.76796 | valid - 0.73964\n",
      "train - 0.76664 | valid - 0.74556\n",
      "train - 0.76928 | valid - 0.71598\n",
      "train - 0.77785 | valid - 0.69822\n",
      "train - 0.74357 | valid - 0.72189\n",
      "train - 0.76153 | valid - 0.72619\n",
      "train - 0.76680 | valid - 0.75000\n",
      "train - 0.76482 | valid - 0.76786\n",
      "train - 0.75626 | valid - 0.69048\n",
      "Average accuracy on crossval is 0.73014\n",
      "std is 0.02293\n",
      "CPU times: user 11.7 s, sys: 229 ms, total: 11.9 s\n",
      "Wall time: 13.4 s\n"
     ]
    }
   ],
   "source": [
    "%%time\n",
    "svc = SVC(random_state=21, kernel='linear', probability=True, C=5.0)\n",
    "crossval(svc, 10, X, y)"
   ]
  },
  {
   "cell_type": "code",
   "execution_count": 12,
   "metadata": {},
   "outputs": [
    {
     "name": "stdout",
     "output_type": "stream",
     "text": [
      "train - 0.77521 | valid - 0.75740\n",
      "train - 0.77587 | valid - 0.73964\n",
      "train - 0.77983 | valid - 0.75740\n",
      "train - 0.78049 | valid - 0.75148\n",
      "train - 0.78510 | valid - 0.69822\n",
      "train - 0.76664 | valid - 0.75740\n",
      "train - 0.78129 | valid - 0.77381\n",
      "train - 0.78195 | valid - 0.75595\n",
      "train - 0.77800 | valid - 0.78571\n",
      "train - 0.76680 | valid - 0.71429\n",
      "Average accuracy on crossval is 0.74913\n",
      "std is 0.02470\n",
      "CPU times: user 13.6 s, sys: 199 ms, total: 13.8 s\n",
      "Wall time: 14.6 s\n"
     ]
    }
   ],
   "source": [
    "%%time\n",
    "svc = SVC(random_state=21, kernel='linear', probability=True, C=10.0)\n",
    "crossval(svc, 10, X, y)"
   ]
  },
  {
   "cell_type": "markdown",
   "metadata": {},
   "source": [
    "## 4. Tree"
   ]
  },
  {
   "cell_type": "markdown",
   "metadata": {},
   "source": [
    "### a. Default regularization"
   ]
  },
  {
   "cell_type": "markdown",
   "metadata": {},
   "source": [
    "1. Train a baseline model with the only parameter `max_depth=10` and `random_state=21`.\n",
    "2. Use stratified K-fold cross-validation with `10` splits to evaluate the accuracy of the model.\n",
    "3. The format of the result of the code where you trained and evaluated the baseline model should be similar to what you have got for the logreg."
   ]
  },
  {
   "cell_type": "code",
   "execution_count": 13,
   "metadata": {},
   "outputs": [
    {
     "name": "stdout",
     "output_type": "stream",
     "text": [
      "train - 0.82004 | valid - 0.79290\n",
      "train - 0.82663 | valid - 0.69822\n",
      "train - 0.82927 | valid - 0.76923\n",
      "train - 0.81806 | valid - 0.71598\n",
      "train - 0.82268 | valid - 0.75148\n",
      "train - 0.80554 | valid - 0.76923\n",
      "train - 0.83333 | valid - 0.75000\n",
      "train - 0.81555 | valid - 0.76786\n",
      "train - 0.81225 | valid - 0.76190\n",
      "train - 0.81752 | valid - 0.67262\n",
      "Average accuracy on crossval is 0.74494\n",
      "std is 0.03551\n",
      "CPU times: user 257 ms, sys: 17.5 ms, total: 274 ms\n",
      "Wall time: 496 ms\n"
     ]
    }
   ],
   "source": [
    "%%time\n",
    "tree = DecisionTreeClassifier(random_state=21, max_depth=10)\n",
    "crossval(tree, 10, X, y)"
   ]
  },
  {
   "cell_type": "markdown",
   "metadata": {},
   "source": [
    "### b. Optimizing regularization parameters"
   ]
  },
  {
   "cell_type": "markdown",
   "metadata": {},
   "source": [
    "1. In the cells below try different values of the parameter `max_depth`.\n",
    "2. As a bonus, play with other regularization parameters trying to find the best combination."
   ]
  },
  {
   "cell_type": "code",
   "execution_count": 14,
   "metadata": {},
   "outputs": [
    {
     "name": "stdout",
     "output_type": "stream",
     "text": [
      "train - 0.56171 | valid - 0.55213\n",
      "train - 0.55538 | valid - 0.50474\n",
      "train - 0.54783 | valid - 0.56770\n",
      "train - 0.51779 | valid - 0.52494\n",
      "Average accuracy on crossval is 0.53738\n",
      "std is 0.02427\n",
      "CPU times: user 60.1 ms, sys: 3.9 ms, total: 64 ms\n",
      "Wall time: 65 ms\n"
     ]
    }
   ],
   "source": [
    "%%time\n",
    "tree = DecisionTreeClassifier(random_state=21, max_depth=4)\n",
    "crossval(tree, 4, X, y)"
   ]
  },
  {
   "cell_type": "code",
   "execution_count": 15,
   "metadata": {},
   "outputs": [
    {
     "name": "stdout",
     "output_type": "stream",
     "text": [
      "train - 0.98682 | valid - 0.89349\n",
      "train - 0.98550 | valid - 0.85799\n",
      "train - 0.99604 | valid - 0.94083\n",
      "train - 0.99341 | valid - 0.89349\n",
      "train - 0.98550 | valid - 0.88166\n",
      "train - 0.98352 | valid - 0.86982\n",
      "train - 0.98617 | valid - 0.90476\n",
      "train - 0.99341 | valid - 0.89881\n",
      "train - 0.98551 | valid - 0.91071\n",
      "train - 0.98946 | valid - 0.83333\n",
      "Average accuracy on crossval is 0.88849\n",
      "std is 0.02832\n",
      "CPU times: user 164 ms, sys: 5.19 ms, total: 169 ms\n",
      "Wall time: 171 ms\n"
     ]
    }
   ],
   "source": [
    "%%time\n",
    "tree = DecisionTreeClassifier(random_state=21, max_depth=20)\n",
    "crossval(tree, 10, X, y)"
   ]
  },
  {
   "cell_type": "code",
   "execution_count": 16,
   "metadata": {},
   "outputs": [
    {
     "name": "stdout",
     "output_type": "stream",
     "text": [
      "train - 0.95122 | valid - 0.88757\n",
      "train - 0.94924 | valid - 0.82249\n",
      "train - 0.96243 | valid - 0.88166\n",
      "train - 0.95188 | valid - 0.86391\n",
      "train - 0.94463 | valid - 0.85799\n",
      "train - 0.93408 | valid - 0.87574\n",
      "train - 0.95520 | valid - 0.88690\n",
      "train - 0.95850 | valid - 0.88095\n",
      "train - 0.94532 | valid - 0.90476\n",
      "train - 0.95784 | valid - 0.85714\n",
      "Average accuracy on crossval is 0.87191\n",
      "std is 0.02159\n",
      "CPU times: user 157 ms, sys: 5.63 ms, total: 162 ms\n",
      "Wall time: 165 ms\n"
     ]
    }
   ],
   "source": [
    "%%time\n",
    "tree = DecisionTreeClassifier(random_state=21, max_depth=15)\n",
    "crossval(tree, 10, X, y)"
   ]
  },
  {
   "cell_type": "markdown",
   "metadata": {},
   "source": [
    "## 5. Random forest"
   ]
  },
  {
   "cell_type": "markdown",
   "metadata": {},
   "source": [
    "### a. Default regularization"
   ]
  },
  {
   "cell_type": "markdown",
   "metadata": {},
   "source": [
    "1. Train a baseline model with the only parameters `n_estimators=50`, `max_depth=14`, `random_state=21`.\n",
    "2. Use stratified K-fold cross-validation with `10` splits to evaluate the accuracy of the model.\n",
    "3. The format of the result of the code where you trained and evaluated the baseline model should be similar to what you have got for the logreg."
   ]
  },
  {
   "cell_type": "code",
   "execution_count": 17,
   "metadata": {},
   "outputs": [
    {
     "name": "stdout",
     "output_type": "stream",
     "text": [
      "train - 0.96506 | valid - 0.88757\n",
      "train - 0.97034 | valid - 0.86391\n",
      "train - 0.97100 | valid - 0.89941\n",
      "train - 0.96572 | valid - 0.87574\n",
      "train - 0.96506 | valid - 0.88757\n",
      "train - 0.96440 | valid - 0.92308\n",
      "train - 0.96574 | valid - 0.91667\n",
      "train - 0.97431 | valid - 0.89881\n",
      "train - 0.96640 | valid - 0.88095\n",
      "train - 0.96311 | valid - 0.87500\n",
      "Average accuracy on crossval is 0.89087\n",
      "std is 0.01780\n",
      "CPU times: user 2.16 s, sys: 43.8 ms, total: 2.2 s\n",
      "Wall time: 2.3 s\n"
     ]
    }
   ],
   "source": [
    "%%time\n",
    "RandFor = RandomForestClassifier(random_state=21, max_depth=14, n_estimators=50)\n",
    "crossval(RandFor, 10, X, y)"
   ]
  },
  {
   "cell_type": "markdown",
   "metadata": {},
   "source": [
    "### b. Optimizing regularization parameters"
   ]
  },
  {
   "cell_type": "markdown",
   "metadata": {},
   "source": [
    "1. In the new cells try different values of the parameters `max_depth` and `n_estimators`.\n",
    "2. As a bonus, play with other regularization parameters trying to find the best combination."
   ]
  },
  {
   "cell_type": "code",
   "execution_count": 18,
   "metadata": {},
   "outputs": [
    {
     "name": "stdout",
     "output_type": "stream",
     "text": [
      "train - 0.99670 | valid - 0.92308\n",
      "train - 0.99670 | valid - 0.91716\n",
      "train - 0.99604 | valid - 0.92899\n",
      "train - 0.99604 | valid - 0.91716\n",
      "train - 0.99802 | valid - 0.89941\n",
      "train - 0.99670 | valid - 0.93491\n",
      "train - 0.99671 | valid - 0.92857\n",
      "train - 0.99736 | valid - 0.92857\n",
      "train - 0.99605 | valid - 0.92262\n",
      "train - 0.99473 | valid - 0.90476\n",
      "Average accuracy on crossval is 0.92052\n",
      "std is 0.01066\n",
      "CPU times: user 2.15 s, sys: 34.5 ms, total: 2.18 s\n",
      "Wall time: 2.27 s\n"
     ]
    }
   ],
   "source": [
    "%%time\n",
    "RandFor = RandomForestClassifier(random_state=21, max_depth=20, n_estimators=50)\n",
    "crossval(RandFor, 10, X, y)"
   ]
  },
  {
   "cell_type": "code",
   "execution_count": 19,
   "metadata": {},
   "outputs": [
    {
     "name": "stdout",
     "output_type": "stream",
     "text": [
      "train - 0.95452 | valid - 0.88166\n",
      "train - 0.96111 | valid - 0.84615\n",
      "train - 0.95649 | valid - 0.89941\n",
      "train - 0.95056 | valid - 0.89941\n",
      "train - 0.95254 | valid - 0.85799\n",
      "train - 0.95847 | valid - 0.90533\n",
      "train - 0.95784 | valid - 0.90476\n",
      "train - 0.95125 | valid - 0.89881\n",
      "train - 0.95125 | valid - 0.89881\n",
      "train - 0.96311 | valid - 0.86310\n",
      "Average accuracy on crossval is 0.88554\n",
      "std is 0.02080\n",
      "CPU times: user 930 ms, sys: 19 ms, total: 949 ms\n",
      "Wall time: 983 ms\n"
     ]
    }
   ],
   "source": [
    "%%time\n",
    "RandFor = RandomForestClassifier(random_state=21, max_depth=14, n_estimators=20)\n",
    "crossval(RandFor, 10, X, y)"
   ]
  },
  {
   "cell_type": "code",
   "execution_count": 20,
   "metadata": {},
   "outputs": [
    {
     "name": "stdout",
     "output_type": "stream",
     "text": [
      "train - 0.99604 | valid - 0.92899\n",
      "train - 0.99670 | valid - 0.91716\n",
      "train - 0.99736 | valid - 0.93491\n",
      "train - 0.99670 | valid - 0.91716\n",
      "train - 0.99736 | valid - 0.89941\n",
      "train - 0.99736 | valid - 0.94083\n",
      "train - 0.99802 | valid - 0.94048\n",
      "train - 0.99802 | valid - 0.92262\n",
      "train - 0.99605 | valid - 0.92857\n",
      "train - 0.99802 | valid - 0.91667\n",
      "Average accuracy on crossval is 0.92468\n",
      "std is 0.01212\n",
      "CPU times: user 2.44 s, sys: 26.1 ms, total: 2.46 s\n",
      "Wall time: 2.48 s\n"
     ]
    }
   ],
   "source": [
    "%%time\n",
    "RandFor = RandomForestClassifier(random_state=21, max_depth=20, n_estimators=70)\n",
    "crossval(RandFor, 10, X, y)"
   ]
  },
  {
   "cell_type": "markdown",
   "metadata": {},
   "source": [
    "## 6. Predictions"
   ]
  },
  {
   "cell_type": "markdown",
   "metadata": {},
   "source": [
    "1. Choose the best model and use it to make predictions for the test dataset.\n",
    "2. Calculate the final accuracy.\n",
    "3. Analyze: for which weekday your model makes the most errors (in % of the total number of samples of that class in your test dataset).\n",
    "4. Save the model."
   ]
  },
  {
   "cell_type": "code",
   "execution_count": 21,
   "metadata": {},
   "outputs": [
    {
     "name": "stdout",
     "output_type": "stream",
     "text": [
      "CPU times: user 141 ms, sys: 4.46 ms, total: 145 ms\n",
      "Wall time: 212 ms\n"
     ]
    }
   ],
   "source": [
    "%%time\n",
    "RandFor = RandomForestClassifier(random_state=21, max_depth=20, n_estimators=70)\n",
    "RandFor.fit(X_train, y_train)\n",
    "pred = RandFor.predict(X_test)"
   ]
  },
  {
   "cell_type": "code",
   "execution_count": 22,
   "metadata": {},
   "outputs": [
    {
     "data": {
      "text/plain": [
       "0.9171597633136095"
      ]
     },
     "execution_count": 22,
     "metadata": {},
     "output_type": "execute_result"
    }
   ],
   "source": [
    "accuracy_score(y_test, pred)"
   ]
  },
  {
   "cell_type": "code",
   "execution_count": 23,
   "metadata": {},
   "outputs": [],
   "source": [
    "df2 = pd.DataFrame({'true': y_test, 'predict': pred})"
   ]
  },
  {
   "cell_type": "code",
   "execution_count": 24,
   "metadata": {},
   "outputs": [
    {
     "data": {
      "text/html": [
       "<div>\n",
       "<style scoped>\n",
       "    .dataframe tbody tr th:only-of-type {\n",
       "        vertical-align: middle;\n",
       "    }\n",
       "\n",
       "    .dataframe tbody tr th {\n",
       "        vertical-align: top;\n",
       "    }\n",
       "\n",
       "    .dataframe thead th {\n",
       "        text-align: right;\n",
       "    }\n",
       "</style>\n",
       "<table border=\"1\" class=\"dataframe\">\n",
       "  <thead>\n",
       "    <tr style=\"text-align: right;\">\n",
       "      <th></th>\n",
       "      <th>true</th>\n",
       "      <th>predict</th>\n",
       "      <th>equal</th>\n",
       "    </tr>\n",
       "  </thead>\n",
       "  <tbody>\n",
       "    <tr>\n",
       "      <th>1087</th>\n",
       "      <td>1</td>\n",
       "      <td>1</td>\n",
       "      <td>True</td>\n",
       "    </tr>\n",
       "    <tr>\n",
       "      <th>16</th>\n",
       "      <td>5</td>\n",
       "      <td>5</td>\n",
       "      <td>True</td>\n",
       "    </tr>\n",
       "    <tr>\n",
       "      <th>563</th>\n",
       "      <td>6</td>\n",
       "      <td>6</td>\n",
       "      <td>True</td>\n",
       "    </tr>\n",
       "    <tr>\n",
       "      <th>1381</th>\n",
       "      <td>3</td>\n",
       "      <td>3</td>\n",
       "      <td>True</td>\n",
       "    </tr>\n",
       "    <tr>\n",
       "      <th>1199</th>\n",
       "      <td>2</td>\n",
       "      <td>2</td>\n",
       "      <td>True</td>\n",
       "    </tr>\n",
       "    <tr>\n",
       "      <th>...</th>\n",
       "      <td>...</td>\n",
       "      <td>...</td>\n",
       "      <td>...</td>\n",
       "    </tr>\n",
       "    <tr>\n",
       "      <th>1411</th>\n",
       "      <td>3</td>\n",
       "      <td>3</td>\n",
       "      <td>True</td>\n",
       "    </tr>\n",
       "    <tr>\n",
       "      <th>1079</th>\n",
       "      <td>1</td>\n",
       "      <td>1</td>\n",
       "      <td>True</td>\n",
       "    </tr>\n",
       "    <tr>\n",
       "      <th>1222</th>\n",
       "      <td>2</td>\n",
       "      <td>2</td>\n",
       "      <td>True</td>\n",
       "    </tr>\n",
       "    <tr>\n",
       "      <th>1064</th>\n",
       "      <td>1</td>\n",
       "      <td>1</td>\n",
       "      <td>True</td>\n",
       "    </tr>\n",
       "    <tr>\n",
       "      <th>1243</th>\n",
       "      <td>2</td>\n",
       "      <td>2</td>\n",
       "      <td>True</td>\n",
       "    </tr>\n",
       "  </tbody>\n",
       "</table>\n",
       "<p>338 rows × 3 columns</p>\n",
       "</div>"
      ],
      "text/plain": [
       "      true  predict  equal\n",
       "1087     1        1   True\n",
       "16       5        5   True\n",
       "563      6        6   True\n",
       "1381     3        3   True\n",
       "1199     2        2   True\n",
       "...    ...      ...    ...\n",
       "1411     3        3   True\n",
       "1079     1        1   True\n",
       "1222     2        2   True\n",
       "1064     1        1   True\n",
       "1243     2        2   True\n",
       "\n",
       "[338 rows x 3 columns]"
      ]
     },
     "execution_count": 24,
     "metadata": {},
     "output_type": "execute_result"
    }
   ],
   "source": [
    "df2['equal'] = df2['true'] == df2['predict']\n",
    "df2"
   ]
  },
  {
   "cell_type": "code",
   "execution_count": 25,
   "metadata": {},
   "outputs": [
    {
     "data": {
      "text/plain": [
       "true  equal\n",
       "1     False    8\n",
       "0     False    7\n",
       "4     False    3\n",
       "5     False    3\n",
       "6     False    3\n",
       "2     False    2\n",
       "3     False    2\n",
       "Name: equal, dtype: int64"
      ]
     },
     "execution_count": 25,
     "metadata": {},
     "output_type": "execute_result"
    }
   ],
   "source": [
    "False_weekday = df2[df2['equal'] == False].groupby(['true', 'equal'])['equal'].count().sort_values(ascending=False)\n",
    "False_weekday"
   ]
  },
  {
   "cell_type": "markdown",
   "metadata": {},
   "source": [
    "for Tuesday  model makes the most errors"
   ]
  },
  {
   "cell_type": "code",
   "execution_count": 26,
   "metadata": {},
   "outputs": [
    {
     "data": {
      "text/plain": [
       "['models/00_RandFor_model']"
      ]
     },
     "execution_count": 26,
     "metadata": {},
     "output_type": "execute_result"
    }
   ],
   "source": [
    "joblib.dump(RandFor, 'models/00_RandFor_model')"
   ]
  }
 ],
 "metadata": {
  "kernelspec": {
   "display_name": ".venv",
   "language": "python",
   "name": "python3"
  },
  "language_info": {
   "codemirror_mode": {
    "name": "ipython",
    "version": 3
   },
   "file_extension": ".py",
   "mimetype": "text/x-python",
   "name": "python",
   "nbconvert_exporter": "python",
   "pygments_lexer": "ipython3",
   "version": "3.13.3"
  }
 },
 "nbformat": 4,
 "nbformat_minor": 4
}
