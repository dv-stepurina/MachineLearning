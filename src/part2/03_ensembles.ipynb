{
 "cells": [
  {
   "cell_type": "markdown",
   "metadata": {},
   "source": [
    "# Day 09. Exercise 03\n",
    "# Ensembles"
   ]
  },
  {
   "cell_type": "markdown",
   "metadata": {},
   "source": [
    "## 0. Imports"
   ]
  },
  {
   "cell_type": "code",
   "execution_count": 1,
   "metadata": {},
   "outputs": [],
   "source": [
    "import pandas as pd\n",
    "from sklearn.metrics import accuracy_score, precision_score, recall_score\n",
    "from sklearn.svm import SVC\n",
    "from sklearn.model_selection import train_test_split\n",
    "from sklearn.tree import DecisionTreeClassifier\n",
    "from sklearn.ensemble import RandomForestClassifier\n",
    "from sklearn.ensemble import VotingClassifier\n",
    "from sklearn.ensemble import BaggingClassifier\n",
    "from sklearn.model_selection import StratifiedKFold\n",
    "from sklearn.ensemble import StackingClassifier\n",
    "from joblib import dump\n",
    "import warnings\n",
    "from sklearn.linear_model import LogisticRegression"
   ]
  },
  {
   "cell_type": "markdown",
   "metadata": {},
   "source": [
    "## 1. Preprocessing"
   ]
  },
  {
   "cell_type": "markdown",
   "metadata": {},
   "source": [
    "1. Create the same dataframe as in the previous exercise.\n",
    "2. Using `train_test_split` with parameters `test_size=0.2`, `random_state=21` get `X_train`, `y_train`, `X_test`, `y_test` and then get `X_train`, `y_train`, `X_valid`, `y_valid` from the previous `X_train`, `y_train`. Use the additional parameter `stratify`."
   ]
  },
  {
   "cell_type": "code",
   "execution_count": 2,
   "metadata": {},
   "outputs": [
    {
     "data": {
      "text/html": [
       "<div>\n",
       "<style scoped>\n",
       "    .dataframe tbody tr th:only-of-type {\n",
       "        vertical-align: middle;\n",
       "    }\n",
       "\n",
       "    .dataframe tbody tr th {\n",
       "        vertical-align: top;\n",
       "    }\n",
       "\n",
       "    .dataframe thead th {\n",
       "        text-align: right;\n",
       "    }\n",
       "</style>\n",
       "<table border=\"1\" class=\"dataframe\">\n",
       "  <thead>\n",
       "    <tr style=\"text-align: right;\">\n",
       "      <th></th>\n",
       "      <th>numTrials</th>\n",
       "      <th>hour</th>\n",
       "      <th>uid_user_0</th>\n",
       "      <th>uid_user_1</th>\n",
       "      <th>uid_user_10</th>\n",
       "      <th>uid_user_11</th>\n",
       "      <th>uid_user_12</th>\n",
       "      <th>uid_user_13</th>\n",
       "      <th>uid_user_14</th>\n",
       "      <th>uid_user_15</th>\n",
       "      <th>...</th>\n",
       "      <th>labname_lab03</th>\n",
       "      <th>labname_lab03s</th>\n",
       "      <th>labname_lab05s</th>\n",
       "      <th>labname_laba04</th>\n",
       "      <th>labname_laba04s</th>\n",
       "      <th>labname_laba05</th>\n",
       "      <th>labname_laba06</th>\n",
       "      <th>labname_laba06s</th>\n",
       "      <th>labname_project1</th>\n",
       "      <th>dayofweek</th>\n",
       "    </tr>\n",
       "  </thead>\n",
       "  <tbody>\n",
       "    <tr>\n",
       "      <th>0</th>\n",
       "      <td>1</td>\n",
       "      <td>5</td>\n",
       "      <td>0.0</td>\n",
       "      <td>0.0</td>\n",
       "      <td>0.0</td>\n",
       "      <td>0.0</td>\n",
       "      <td>0.0</td>\n",
       "      <td>0.0</td>\n",
       "      <td>0.0</td>\n",
       "      <td>0.0</td>\n",
       "      <td>...</td>\n",
       "      <td>0.0</td>\n",
       "      <td>0.0</td>\n",
       "      <td>0.0</td>\n",
       "      <td>0.0</td>\n",
       "      <td>0.0</td>\n",
       "      <td>0.0</td>\n",
       "      <td>0.0</td>\n",
       "      <td>0.0</td>\n",
       "      <td>1.0</td>\n",
       "      <td>4</td>\n",
       "    </tr>\n",
       "    <tr>\n",
       "      <th>1</th>\n",
       "      <td>2</td>\n",
       "      <td>5</td>\n",
       "      <td>0.0</td>\n",
       "      <td>0.0</td>\n",
       "      <td>0.0</td>\n",
       "      <td>0.0</td>\n",
       "      <td>0.0</td>\n",
       "      <td>0.0</td>\n",
       "      <td>0.0</td>\n",
       "      <td>0.0</td>\n",
       "      <td>...</td>\n",
       "      <td>0.0</td>\n",
       "      <td>0.0</td>\n",
       "      <td>0.0</td>\n",
       "      <td>0.0</td>\n",
       "      <td>0.0</td>\n",
       "      <td>0.0</td>\n",
       "      <td>0.0</td>\n",
       "      <td>0.0</td>\n",
       "      <td>1.0</td>\n",
       "      <td>4</td>\n",
       "    </tr>\n",
       "    <tr>\n",
       "      <th>2</th>\n",
       "      <td>3</td>\n",
       "      <td>5</td>\n",
       "      <td>0.0</td>\n",
       "      <td>0.0</td>\n",
       "      <td>0.0</td>\n",
       "      <td>0.0</td>\n",
       "      <td>0.0</td>\n",
       "      <td>0.0</td>\n",
       "      <td>0.0</td>\n",
       "      <td>0.0</td>\n",
       "      <td>...</td>\n",
       "      <td>0.0</td>\n",
       "      <td>0.0</td>\n",
       "      <td>0.0</td>\n",
       "      <td>0.0</td>\n",
       "      <td>0.0</td>\n",
       "      <td>0.0</td>\n",
       "      <td>0.0</td>\n",
       "      <td>0.0</td>\n",
       "      <td>1.0</td>\n",
       "      <td>4</td>\n",
       "    </tr>\n",
       "    <tr>\n",
       "      <th>3</th>\n",
       "      <td>4</td>\n",
       "      <td>5</td>\n",
       "      <td>0.0</td>\n",
       "      <td>0.0</td>\n",
       "      <td>0.0</td>\n",
       "      <td>0.0</td>\n",
       "      <td>0.0</td>\n",
       "      <td>0.0</td>\n",
       "      <td>0.0</td>\n",
       "      <td>0.0</td>\n",
       "      <td>...</td>\n",
       "      <td>0.0</td>\n",
       "      <td>0.0</td>\n",
       "      <td>0.0</td>\n",
       "      <td>0.0</td>\n",
       "      <td>0.0</td>\n",
       "      <td>0.0</td>\n",
       "      <td>0.0</td>\n",
       "      <td>0.0</td>\n",
       "      <td>1.0</td>\n",
       "      <td>4</td>\n",
       "    </tr>\n",
       "    <tr>\n",
       "      <th>4</th>\n",
       "      <td>5</td>\n",
       "      <td>5</td>\n",
       "      <td>0.0</td>\n",
       "      <td>0.0</td>\n",
       "      <td>0.0</td>\n",
       "      <td>0.0</td>\n",
       "      <td>0.0</td>\n",
       "      <td>0.0</td>\n",
       "      <td>0.0</td>\n",
       "      <td>0.0</td>\n",
       "      <td>...</td>\n",
       "      <td>0.0</td>\n",
       "      <td>0.0</td>\n",
       "      <td>0.0</td>\n",
       "      <td>0.0</td>\n",
       "      <td>0.0</td>\n",
       "      <td>0.0</td>\n",
       "      <td>0.0</td>\n",
       "      <td>0.0</td>\n",
       "      <td>1.0</td>\n",
       "      <td>4</td>\n",
       "    </tr>\n",
       "    <tr>\n",
       "      <th>...</th>\n",
       "      <td>...</td>\n",
       "      <td>...</td>\n",
       "      <td>...</td>\n",
       "      <td>...</td>\n",
       "      <td>...</td>\n",
       "      <td>...</td>\n",
       "      <td>...</td>\n",
       "      <td>...</td>\n",
       "      <td>...</td>\n",
       "      <td>...</td>\n",
       "      <td>...</td>\n",
       "      <td>...</td>\n",
       "      <td>...</td>\n",
       "      <td>...</td>\n",
       "      <td>...</td>\n",
       "      <td>...</td>\n",
       "      <td>...</td>\n",
       "      <td>...</td>\n",
       "      <td>...</td>\n",
       "      <td>...</td>\n",
       "      <td>...</td>\n",
       "    </tr>\n",
       "    <tr>\n",
       "      <th>1681</th>\n",
       "      <td>9</td>\n",
       "      <td>20</td>\n",
       "      <td>0.0</td>\n",
       "      <td>0.0</td>\n",
       "      <td>0.0</td>\n",
       "      <td>0.0</td>\n",
       "      <td>0.0</td>\n",
       "      <td>0.0</td>\n",
       "      <td>0.0</td>\n",
       "      <td>0.0</td>\n",
       "      <td>...</td>\n",
       "      <td>0.0</td>\n",
       "      <td>0.0</td>\n",
       "      <td>0.0</td>\n",
       "      <td>0.0</td>\n",
       "      <td>0.0</td>\n",
       "      <td>0.0</td>\n",
       "      <td>0.0</td>\n",
       "      <td>1.0</td>\n",
       "      <td>0.0</td>\n",
       "      <td>3</td>\n",
       "    </tr>\n",
       "    <tr>\n",
       "      <th>1682</th>\n",
       "      <td>6</td>\n",
       "      <td>20</td>\n",
       "      <td>0.0</td>\n",
       "      <td>1.0</td>\n",
       "      <td>0.0</td>\n",
       "      <td>0.0</td>\n",
       "      <td>0.0</td>\n",
       "      <td>0.0</td>\n",
       "      <td>0.0</td>\n",
       "      <td>0.0</td>\n",
       "      <td>...</td>\n",
       "      <td>0.0</td>\n",
       "      <td>0.0</td>\n",
       "      <td>0.0</td>\n",
       "      <td>0.0</td>\n",
       "      <td>0.0</td>\n",
       "      <td>0.0</td>\n",
       "      <td>0.0</td>\n",
       "      <td>1.0</td>\n",
       "      <td>0.0</td>\n",
       "      <td>3</td>\n",
       "    </tr>\n",
       "    <tr>\n",
       "      <th>1683</th>\n",
       "      <td>7</td>\n",
       "      <td>20</td>\n",
       "      <td>0.0</td>\n",
       "      <td>1.0</td>\n",
       "      <td>0.0</td>\n",
       "      <td>0.0</td>\n",
       "      <td>0.0</td>\n",
       "      <td>0.0</td>\n",
       "      <td>0.0</td>\n",
       "      <td>0.0</td>\n",
       "      <td>...</td>\n",
       "      <td>0.0</td>\n",
       "      <td>0.0</td>\n",
       "      <td>0.0</td>\n",
       "      <td>0.0</td>\n",
       "      <td>0.0</td>\n",
       "      <td>0.0</td>\n",
       "      <td>0.0</td>\n",
       "      <td>1.0</td>\n",
       "      <td>0.0</td>\n",
       "      <td>3</td>\n",
       "    </tr>\n",
       "    <tr>\n",
       "      <th>1684</th>\n",
       "      <td>8</td>\n",
       "      <td>20</td>\n",
       "      <td>0.0</td>\n",
       "      <td>1.0</td>\n",
       "      <td>0.0</td>\n",
       "      <td>0.0</td>\n",
       "      <td>0.0</td>\n",
       "      <td>0.0</td>\n",
       "      <td>0.0</td>\n",
       "      <td>0.0</td>\n",
       "      <td>...</td>\n",
       "      <td>0.0</td>\n",
       "      <td>0.0</td>\n",
       "      <td>0.0</td>\n",
       "      <td>0.0</td>\n",
       "      <td>0.0</td>\n",
       "      <td>0.0</td>\n",
       "      <td>0.0</td>\n",
       "      <td>1.0</td>\n",
       "      <td>0.0</td>\n",
       "      <td>3</td>\n",
       "    </tr>\n",
       "    <tr>\n",
       "      <th>1685</th>\n",
       "      <td>9</td>\n",
       "      <td>20</td>\n",
       "      <td>0.0</td>\n",
       "      <td>1.0</td>\n",
       "      <td>0.0</td>\n",
       "      <td>0.0</td>\n",
       "      <td>0.0</td>\n",
       "      <td>0.0</td>\n",
       "      <td>0.0</td>\n",
       "      <td>0.0</td>\n",
       "      <td>...</td>\n",
       "      <td>0.0</td>\n",
       "      <td>0.0</td>\n",
       "      <td>0.0</td>\n",
       "      <td>0.0</td>\n",
       "      <td>0.0</td>\n",
       "      <td>0.0</td>\n",
       "      <td>0.0</td>\n",
       "      <td>1.0</td>\n",
       "      <td>0.0</td>\n",
       "      <td>3</td>\n",
       "    </tr>\n",
       "  </tbody>\n",
       "</table>\n",
       "<p>1686 rows × 44 columns</p>\n",
       "</div>"
      ],
      "text/plain": [
       "      numTrials  hour  uid_user_0  uid_user_1  uid_user_10  uid_user_11  \\\n",
       "0             1     5         0.0         0.0          0.0          0.0   \n",
       "1             2     5         0.0         0.0          0.0          0.0   \n",
       "2             3     5         0.0         0.0          0.0          0.0   \n",
       "3             4     5         0.0         0.0          0.0          0.0   \n",
       "4             5     5         0.0         0.0          0.0          0.0   \n",
       "...         ...   ...         ...         ...          ...          ...   \n",
       "1681          9    20         0.0         0.0          0.0          0.0   \n",
       "1682          6    20         0.0         1.0          0.0          0.0   \n",
       "1683          7    20         0.0         1.0          0.0          0.0   \n",
       "1684          8    20         0.0         1.0          0.0          0.0   \n",
       "1685          9    20         0.0         1.0          0.0          0.0   \n",
       "\n",
       "      uid_user_12  uid_user_13  uid_user_14  uid_user_15  ...  labname_lab03  \\\n",
       "0             0.0          0.0          0.0          0.0  ...            0.0   \n",
       "1             0.0          0.0          0.0          0.0  ...            0.0   \n",
       "2             0.0          0.0          0.0          0.0  ...            0.0   \n",
       "3             0.0          0.0          0.0          0.0  ...            0.0   \n",
       "4             0.0          0.0          0.0          0.0  ...            0.0   \n",
       "...           ...          ...          ...          ...  ...            ...   \n",
       "1681          0.0          0.0          0.0          0.0  ...            0.0   \n",
       "1682          0.0          0.0          0.0          0.0  ...            0.0   \n",
       "1683          0.0          0.0          0.0          0.0  ...            0.0   \n",
       "1684          0.0          0.0          0.0          0.0  ...            0.0   \n",
       "1685          0.0          0.0          0.0          0.0  ...            0.0   \n",
       "\n",
       "      labname_lab03s  labname_lab05s  labname_laba04  labname_laba04s  \\\n",
       "0                0.0             0.0             0.0              0.0   \n",
       "1                0.0             0.0             0.0              0.0   \n",
       "2                0.0             0.0             0.0              0.0   \n",
       "3                0.0             0.0             0.0              0.0   \n",
       "4                0.0             0.0             0.0              0.0   \n",
       "...              ...             ...             ...              ...   \n",
       "1681             0.0             0.0             0.0              0.0   \n",
       "1682             0.0             0.0             0.0              0.0   \n",
       "1683             0.0             0.0             0.0              0.0   \n",
       "1684             0.0             0.0             0.0              0.0   \n",
       "1685             0.0             0.0             0.0              0.0   \n",
       "\n",
       "      labname_laba05  labname_laba06  labname_laba06s  labname_project1  \\\n",
       "0                0.0             0.0              0.0               1.0   \n",
       "1                0.0             0.0              0.0               1.0   \n",
       "2                0.0             0.0              0.0               1.0   \n",
       "3                0.0             0.0              0.0               1.0   \n",
       "4                0.0             0.0              0.0               1.0   \n",
       "...              ...             ...              ...               ...   \n",
       "1681             0.0             0.0              1.0               0.0   \n",
       "1682             0.0             0.0              1.0               0.0   \n",
       "1683             0.0             0.0              1.0               0.0   \n",
       "1684             0.0             0.0              1.0               0.0   \n",
       "1685             0.0             0.0              1.0               0.0   \n",
       "\n",
       "      dayofweek  \n",
       "0             4  \n",
       "1             4  \n",
       "2             4  \n",
       "3             4  \n",
       "4             4  \n",
       "...         ...  \n",
       "1681          3  \n",
       "1682          3  \n",
       "1683          3  \n",
       "1684          3  \n",
       "1685          3  \n",
       "\n",
       "[1686 rows x 44 columns]"
      ]
     },
     "execution_count": 2,
     "metadata": {},
     "output_type": "execute_result"
    }
   ],
   "source": [
    "df = pd.read_csv('../../datasets/day-of-week-not-scaled.csv')\n",
    "df_prev = pd.read_csv('../../datasets/dayofweek.csv')\n",
    "df['dayofweek'] = df_prev['dayofweek'].values\n",
    "df"
   ]
  },
  {
   "cell_type": "code",
   "execution_count": 3,
   "metadata": {},
   "outputs": [],
   "source": [
    "X=df.drop('dayofweek', axis=1)\n",
    "y = df['dayofweek']\n",
    "X_train_start, X_test, y_train_start, y_test = train_test_split(X, y, test_size=0.2, random_state=21, stratify=y)\n",
    "X_train, X_valid, y_train, y_valid = train_test_split(X_train_start, y_train_start, test_size=0.2, random_state=21, stratify=y_train_start)"
   ]
  },
  {
   "cell_type": "markdown",
   "metadata": {},
   "source": [
    "## 2. Individual classifiers"
   ]
  },
  {
   "cell_type": "markdown",
   "metadata": {},
   "source": [
    "1. Train SVM, decision tree and random forest again with the best parameters that you got from the 01 exercise with `random_state=21` for all of them.\n",
    "2. Evaluate `accuracy`, `precision`, and `recall` for them on the validation set.\n",
    "3. The result of each cell of the section should look like this:\n",
    "\n",
    "```\n",
    "accuracy is 0.87778\n",
    "precision is 0.88162\n",
    "recall is 0.87778\n",
    "```"
   ]
  },
  {
   "cell_type": "code",
   "execution_count": 4,
   "metadata": {},
   "outputs": [
    {
     "name": "stdout",
     "output_type": "stream",
     "text": [
      "accuracy is 0.87778\n",
      "precision is 0.88162\n",
      "recall is 0.87778\n"
     ]
    }
   ],
   "source": [
    "svc = SVC(C=10, probability=True, random_state=21, class_weight=None, gamma='auto', kernel='rbf' )\n",
    "svc.fit(X_train, y_train)\n",
    "y_pred = svc.predict(X_valid)\n",
    "accuracy = accuracy_score(y_valid, y_pred)\n",
    "precision = precision_score(y_valid, y_pred, average='weighted')\n",
    "recall = recall_score(y_valid, y_pred, average='weighted')\n",
    "print(f\"accuracy is {accuracy:.5f}\")\n",
    "print(f\"precision is {precision:.5f}\")\n",
    "print(f\"recall is {recall:.5f}\")\n"
   ]
  },
  {
   "cell_type": "code",
   "execution_count": 5,
   "metadata": {},
   "outputs": [
    {
     "name": "stdout",
     "output_type": "stream",
     "text": [
      "accuracy is 0.85926\n",
      "precision is 0.86306\n",
      "recall is 0.85926\n"
     ]
    }
   ],
   "source": [
    "tree = DecisionTreeClassifier(max_depth=23, random_state=21, class_weight='balanced')\n",
    "tree.fit(X_train, y_train)\n",
    "y_pred = tree.predict(X_valid)\n",
    "accuracy = accuracy_score(y_valid, y_pred)\n",
    "precision = precision_score(y_valid, y_pred, average='weighted')\n",
    "recall = recall_score(y_valid, y_pred, average='weighted')\n",
    "print(f\"accuracy is {accuracy:.5f}\")\n",
    "print(f\"precision is {precision:.5f}\")\n",
    "print(f\"recall is {recall:.5f}\")\n"
   ]
  },
  {
   "cell_type": "code",
   "execution_count": 6,
   "metadata": {},
   "outputs": [
    {
     "name": "stdout",
     "output_type": "stream",
     "text": [
      "accuracy is 0.88889\n",
      "precision is 0.88952\n",
      "recall is 0.88889\n"
     ]
    }
   ],
   "source": [
    "RandForest = RandomForestClassifier(max_depth=28, criterion='gini', random_state=21, class_weight=None, n_estimators=50)\n",
    "RandForest.fit(X_train, y_train) \n",
    "y_pred = RandForest.predict(X_valid)\n",
    "accuracy = accuracy_score(y_valid, y_pred)\n",
    "precision = precision_score(y_valid, y_pred, average='weighted')\n",
    "recall = recall_score(y_valid, y_pred, average='weighted')\n",
    "print(f\"accuracy is {accuracy:.5f}\")\n",
    "print(f\"precision is {precision:.5f}\")\n",
    "print(f\"recall is {recall:.5f}\")\n"
   ]
  },
  {
   "cell_type": "markdown",
   "metadata": {},
   "source": [
    "## 3. Voting classifiers"
   ]
  },
  {
   "cell_type": "markdown",
   "metadata": {},
   "source": [
    "1. Using `VotingClassifier` and the three models that you have just trained, calculate the `accuracy`, `precision`, and `recall` on the validation set.\n",
    "2. Play with the other parameteres.\n",
    "3. Calculate the `accuracy`, `precision` and `recall` on the test set for the model with the best weights in terms of accuracy (if there are several of them with equal values, choose the one with the higher precision)."
   ]
  },
  {
   "cell_type": "code",
   "execution_count": 7,
   "metadata": {},
   "outputs": [
    {
     "name": "stdout",
     "output_type": "stream",
     "text": [
      "accuracy is 0.88889\n",
      "precision is 0.88952\n",
      "recall is 0.88889\n"
     ]
    }
   ],
   "source": [
    "VotClass = VotingClassifier(estimators=[('svc', svc), ('tree', tree), ('RandForest', RandForest)])\n",
    "VotClass.fit(X_train, y_train)\n",
    "pred = VotClass.predict(X_valid)\n",
    "accuracy = accuracy_score(y_valid, y_pred)\n",
    "precision = precision_score(y_valid, y_pred, average='weighted')\n",
    "recall = recall_score(y_valid, y_pred, average='weighted')\n",
    "print(f\"accuracy is {accuracy:.5f}\")\n",
    "print(f\"precision is {precision:.5f}\")\n",
    "print(f\"recall is {recall:.5f}\")"
   ]
  },
  {
   "cell_type": "code",
   "execution_count": 8,
   "metadata": {},
   "outputs": [
    {
     "data": {
      "text/plain": [
       "[{'weight': (4, 1, 4),\n",
       "  'accuracy': 0.9037037037037037,\n",
       "  'precision': 0.906290049662057,\n",
       "  'recall': 0.9037037037037037},\n",
       " {'weight': (2, 1, 1),\n",
       "  'accuracy': 0.9037037037037037,\n",
       "  'precision': 0.9051418757467145,\n",
       "  'recall': 0.9037037037037037},\n",
       " {'weight': (1, 1, 3),\n",
       "  'accuracy': 0.8925925925925926,\n",
       "  'precision': 0.8952756921144018,\n",
       "  'recall': 0.8925925925925926},\n",
       " {'weight': (1, 1, 2),\n",
       "  'accuracy': 0.8888888888888888,\n",
       "  'precision': 0.8922192012801332,\n",
       "  'recall': 0.8888888888888888},\n",
       " {'weight': (1, 2, 3),\n",
       "  'accuracy': 0.8814814814814815,\n",
       "  'precision': 0.885320847679682,\n",
       "  'recall': 0.8814814814814815},\n",
       " {'weight': (1, 1, 1),\n",
       "  'accuracy': 0.8777777777777778,\n",
       "  'precision': 0.8816801525543417,\n",
       "  'recall': 0.8777777777777778},\n",
       " {'weight': (1, 2, 2),\n",
       "  'accuracy': 0.8703703703703703,\n",
       "  'precision': 0.8734262408306124,\n",
       "  'recall': 0.8703703703703703},\n",
       " {'weight': (1, 3, 3),\n",
       "  'accuracy': 0.8666666666666667,\n",
       "  'precision': 0.8697923610491917,\n",
       "  'recall': 0.8666666666666667},\n",
       " {'weight': (1, 2, 1),\n",
       "  'accuracy': 0.8592592592592593,\n",
       "  'precision': 0.8630597652455576,\n",
       "  'recall': 0.8592592592592593},\n",
       " {'weight': (1, 3, 1),\n",
       "  'accuracy': 0.8592592592592593,\n",
       "  'precision': 0.8630597652455576,\n",
       "  'recall': 0.8592592592592593},\n",
       " {'weight': (1, 3, 1),\n",
       "  'accuracy': 0.8592592592592593,\n",
       "  'precision': 0.8630597652455576,\n",
       "  'recall': 0.8592592592592593},\n",
       " {'weight': (1, 3, 2),\n",
       "  'accuracy': 0.8592592592592593,\n",
       "  'precision': 0.8630597652455576,\n",
       "  'recall': 0.8592592592592593}]"
      ]
     },
     "execution_count": 8,
     "metadata": {},
     "output_type": "execute_result"
    }
   ],
   "source": [
    "weights = [(1,1,1),(1,1,2),(1,1,3),(1,2,1),(1,2,2),(1,2,3),(1,3,1),(1,3,1),(1,3,2),(1,3,3), (2,1,1), (4,1,4)]\n",
    "results = []\n",
    "for weight in weights:\n",
    "    vote = VotingClassifier(estimators = [('svc', svc),\n",
    "            ('tree', tree),\n",
    "            ('RandForest', RandForest)\n",
    "       ], voting='soft', weights=weight)\n",
    "    vote.fit(X_train, y_train)\n",
    "    pred = vote.predict(X_valid)\n",
    "    accuracy = accuracy_score(y_valid, pred)\n",
    "    precision = precision_score(y_valid, pred, average='weighted')\n",
    "    recall = recall_score(y_valid, pred, average='weighted')\n",
    "    results.append({'weight': weight, 'accuracy': accuracy, 'precision': precision, 'recall':recall})\n",
    "results = sorted(results, key=lambda x: (x['accuracy'], x['precision']), reverse=True)\n",
    "results"
   ]
  },
  {
   "cell_type": "code",
   "execution_count": 9,
   "metadata": {},
   "outputs": [
    {
     "name": "stdout",
     "output_type": "stream",
     "text": [
      "accuracy is 0.91420\n",
      "precision is 0.91727\n",
      "recall is 0.91420\n"
     ]
    }
   ],
   "source": [
    "VotClass = VotingClassifier(estimators=[('svc', svc), ('tree', tree), ('RandForest', RandForest)], voting='soft', weights=(4, 1 ,4))\n",
    "VotClass.fit(X_train_start, y_train_start)\n",
    "y_pred = VotClass.predict(X_test)\n",
    "accuracy = accuracy_score(y_test, y_pred)\n",
    "precision = precision_score(y_test, y_pred, average='weighted')\n",
    "recall = recall_score(y_test, y_pred, average='weighted')\n",
    "print(f\"accuracy is {accuracy:.5f}\")\n",
    "print(f\"precision is {precision:.5f}\")\n",
    "print(f\"recall is {recall:.5f}\")"
   ]
  },
  {
   "cell_type": "markdown",
   "metadata": {},
   "source": [
    "## 4. Bagging classifiers"
   ]
  },
  {
   "cell_type": "markdown",
   "metadata": {},
   "source": [
    "1. Using `BaggingClassifier` and `SVM` with the best parameters create an ensemble, try different values of the `n_estimators`, use `random_state=21`.\n",
    "2. Play with the other parameters.\n",
    "3. Calculate the `accuracy`, `precision`, and `recall` for the model with the best parameters (in terms of accuracy) on the test set (if there are several of them with equal values, choose the one with the higher precision)"
   ]
  },
  {
   "cell_type": "code",
   "execution_count": 10,
   "metadata": {},
   "outputs": [
    {
     "name": "stdout",
     "output_type": "stream",
     "text": [
      "accuracy is 0.88519\n",
      "precision is 0.89427\n",
      "recall is 0.88519\n"
     ]
    }
   ],
   "source": [
    "BagClass = BaggingClassifier(estimator=svc, random_state=21, n_estimators=10)\n",
    "BagClass.fit(X_train, y_train)\n",
    "y_pred = BagClass.predict(X_valid)\n",
    "accuracy = accuracy_score(y_valid, y_pred)\n",
    "precision = precision_score(y_valid, y_pred, average='weighted')\n",
    "recall = recall_score(y_valid, y_pred, average='weighted')\n",
    "print(f\"accuracy is {accuracy:.5f}\")\n",
    "print(f\"precision is {precision:.5f}\")\n",
    "print(f\"recall is {recall:.5f}\")"
   ]
  },
  {
   "cell_type": "code",
   "execution_count": 11,
   "metadata": {},
   "outputs": [],
   "source": [
    "params = [\n",
    "    {'n_estimators': 30, 'max_samples':0.5, 'max_features':0.5},\n",
    "    {'n_estimators': 30, 'max_samples':0.5, 'max_features':1.0},\n",
    "    {'n_estimators': 50, 'max_samples':0.5, 'max_features':0.5},\n",
    "    {'n_estimators': 50, 'max_samples':0.5, 'max_features':1.0},\n",
    "    {'n_estimators': 30, 'max_samples':1.0, 'max_features':0.5},\n",
    "    {'n_estimators': 30, 'max_samples':1.0, 'max_features':1.0},\n",
    "    {'n_estimators': 50, 'max_samples':1.0, 'max_features':0.5},\n",
    "    {'n_estimators': 50, 'max_samples':1.0, 'max_features':1.0}\n",
    "]"
   ]
  },
  {
   "cell_type": "code",
   "execution_count": 12,
   "metadata": {},
   "outputs": [
    {
     "data": {
      "text/plain": [
       "[{'params': {'n_estimators': 30, 'max_samples': 1.0, 'max_features': 1.0},\n",
       "  'accuracy': 0.8888888888888888,\n",
       "  'precision': 0.8971817544876906,\n",
       "  'recall': 0.8888888888888888},\n",
       " {'params': {'n_estimators': 50, 'max_samples': 1.0, 'max_features': 1.0},\n",
       "  'accuracy': 0.8814814814814815,\n",
       "  'precision': 0.8903537908921018,\n",
       "  'recall': 0.8814814814814815},\n",
       " {'params': {'n_estimators': 50, 'max_samples': 0.5, 'max_features': 1.0},\n",
       "  'accuracy': 0.8333333333333334,\n",
       "  'precision': 0.8495526238864247,\n",
       "  'recall': 0.8333333333333334},\n",
       " {'params': {'n_estimators': 30, 'max_samples': 0.5, 'max_features': 1.0},\n",
       "  'accuracy': 0.8222222222222222,\n",
       "  'precision': 0.8397645852400676,\n",
       "  'recall': 0.8222222222222222},\n",
       " {'params': {'n_estimators': 50, 'max_samples': 1.0, 'max_features': 0.5},\n",
       "  'accuracy': 0.7481481481481481,\n",
       "  'precision': 0.7844276117730249,\n",
       "  'recall': 0.7481481481481481},\n",
       " {'params': {'n_estimators': 30, 'max_samples': 1.0, 'max_features': 0.5},\n",
       "  'accuracy': 0.7481481481481481,\n",
       "  'precision': 0.7844118125993632,\n",
       "  'recall': 0.7481481481481481},\n",
       " {'params': {'n_estimators': 30, 'max_samples': 0.5, 'max_features': 0.5},\n",
       "  'accuracy': 0.6555555555555556,\n",
       "  'precision': 0.7435393910003839,\n",
       "  'recall': 0.6555555555555556},\n",
       " {'params': {'n_estimators': 50, 'max_samples': 0.5, 'max_features': 0.5},\n",
       "  'accuracy': 0.6518518518518519,\n",
       "  'precision': 0.7454670158373863,\n",
       "  'recall': 0.6518518518518519}]"
      ]
     },
     "execution_count": 12,
     "metadata": {},
     "output_type": "execute_result"
    }
   ],
   "source": [
    "results = []\n",
    "for param in params:\n",
    "    BagClass = BaggingClassifier(estimator=svc,\n",
    "                          random_state=21, **param)\n",
    "    BagClass.fit(X_train, y_train)\n",
    "    y_pred = BagClass.predict(X_valid)\n",
    "    accuracy = accuracy_score(y_valid, y_pred)\n",
    "    precision = precision_score(y_valid, y_pred, average='weighted')\n",
    "    recall = recall_score(y_valid, y_pred, average='weighted')\n",
    "    results.append({'params': param, 'accuracy': accuracy, 'precision': precision, 'recall':recall})\n",
    "results = sorted(results, key=lambda x: (x['accuracy'], x['precision']), reverse=True)\n",
    "results"
   ]
  },
  {
   "cell_type": "code",
   "execution_count": 13,
   "metadata": {},
   "outputs": [
    {
     "name": "stdout",
     "output_type": "stream",
     "text": [
      "accuracy is 0.89941\n",
      "precision is 0.90351\n",
      "recall is 0.89941\n"
     ]
    }
   ],
   "source": [
    "BagClass = BaggingClassifier(estimator=svc, random_state=21, n_estimators=30, max_samples=1.0, max_features=1.0)\n",
    "BagClass.fit(X_train_start, y_train_start)\n",
    "y_pred = BagClass.predict(X_test)\n",
    "accuracy = accuracy_score(y_test, y_pred)\n",
    "precision = precision_score(y_test, y_pred, average='weighted')\n",
    "recall = recall_score(y_test, y_pred, average='weighted')\n",
    "print(f\"accuracy is {accuracy:.5f}\")\n",
    "print(f\"precision is {precision:.5f}\")\n",
    "print(f\"recall is {recall:.5f}\")"
   ]
  },
  {
   "cell_type": "markdown",
   "metadata": {},
   "source": [
    "## 5. Stacking classifiers"
   ]
  },
  {
   "cell_type": "markdown",
   "metadata": {},
   "source": [
    "1. To achieve reproducibility in this case you will have to create an object of cross-validation generator: `StratifiedKFold(n_splits=n, shuffle=True, random_state=21)`, where `n` you will try to optimize (the details are below).\n",
    "2. Using `StackingClassifier` and the three models that you have recently trained, calculate the `accuracy`, `precision` and `recall` on the validation set, try different values of `n_splits` `[2, 3, 4, 5, 6, 7]` in the cross-validation generator and parameter `passthrough` in the classifier itself,\n",
    "3. Calculate the `accuracy`, `precision`, and `recall` for the model with the best parameters (in terms of accuracy) on the test set (if there are several of them with equal values, choose the one with the higher precision). Use `final_estimator=LogisticRegression(solver='liblinear')`."
   ]
  },
  {
   "cell_type": "code",
   "execution_count": 14,
   "metadata": {},
   "outputs": [
    {
     "data": {
      "text/plain": [
       "[{'n_splits': 5,\n",
       "  'passthrough': False,\n",
       "  'accuracy': 0.9222222222222223,\n",
       "  'precision': 0.9248482899020534,\n",
       "  'recall': 0.9222222222222223},\n",
       " {'n_splits': 6,\n",
       "  'passthrough': True,\n",
       "  'accuracy': 0.9111111111111111,\n",
       "  'precision': 0.9123063973063973,\n",
       "  'recall': 0.9111111111111111},\n",
       " {'n_splits': 4,\n",
       "  'passthrough': False,\n",
       "  'accuracy': 0.9074074074074074,\n",
       "  'precision': 0.910149435191288,\n",
       "  'recall': 0.9074074074074074},\n",
       " {'n_splits': 6,\n",
       "  'passthrough': False,\n",
       "  'accuracy': 0.9074074074074074,\n",
       "  'precision': 0.9083958616816779,\n",
       "  'recall': 0.9074074074074074},\n",
       " {'n_splits': 4,\n",
       "  'passthrough': True,\n",
       "  'accuracy': 0.9037037037037037,\n",
       "  'precision': 0.907597305709334,\n",
       "  'recall': 0.9037037037037037},\n",
       " {'n_splits': 2,\n",
       "  'passthrough': True,\n",
       "  'accuracy': 0.9037037037037037,\n",
       "  'precision': 0.9062936012936013,\n",
       "  'recall': 0.9037037037037037},\n",
       " {'n_splits': 5,\n",
       "  'passthrough': True,\n",
       "  'accuracy': 0.9037037037037037,\n",
       "  'precision': 0.9062854945130853,\n",
       "  'recall': 0.9037037037037037},\n",
       " {'n_splits': 7,\n",
       "  'passthrough': False,\n",
       "  'accuracy': 0.9037037037037037,\n",
       "  'precision': 0.9059856420174535,\n",
       "  'recall': 0.9037037037037037},\n",
       " {'n_splits': 7,\n",
       "  'passthrough': True,\n",
       "  'accuracy': 0.9,\n",
       "  'precision': 0.9013202976199397,\n",
       "  'recall': 0.9},\n",
       " {'n_splits': 3,\n",
       "  'passthrough': False,\n",
       "  'accuracy': 0.8962962962962963,\n",
       "  'precision': 0.8978069074948253,\n",
       "  'recall': 0.8962962962962963},\n",
       " {'n_splits': 3,\n",
       "  'passthrough': True,\n",
       "  'accuracy': 0.8925925925925926,\n",
       "  'precision': 0.8941486659500274,\n",
       "  'recall': 0.8925925925925926},\n",
       " {'n_splits': 2,\n",
       "  'passthrough': False,\n",
       "  'accuracy': 0.8888888888888888,\n",
       "  'precision': 0.8915479383866481,\n",
       "  'recall': 0.8888888888888888}]"
      ]
     },
     "execution_count": 14,
     "metadata": {},
     "output_type": "execute_result"
    }
   ],
   "source": [
    "results = []\n",
    "for n in [2,3,4,5,6,7]:\n",
    "    for passthrough in [True, False]:\n",
    "        StratKfold = StratifiedKFold(n_splits=n, shuffle=True, random_state=21)\n",
    "        with warnings.catch_warnings():\n",
    "            warnings.simplefilter(\"ignore\")\n",
    "            StackClass = StackingClassifier(estimators=[('svc', svc), ('tree', tree), ('RandForest', RandForest)], cv=StratKfold, passthrough=passthrough)\n",
    "            StackClass.fit(X_train, y_train)\n",
    "            y_pred = StackClass.predict(X_valid)\n",
    "            accuracy = accuracy_score(y_valid, y_pred)\n",
    "            precision = precision_score(y_valid, y_pred, average='weighted')\n",
    "            recall = recall_score(y_valid, y_pred, average='weighted')\n",
    "            results.append({'n_splits': n,\n",
    "                        'passthrough': passthrough,\n",
    "                        'accuracy': accuracy,\n",
    "                        'precision': precision,\n",
    "                        'recall': recall})\n",
    "result = sorted(results, key=lambda x: (x['accuracy'], x['precision']), reverse = True)\n",
    "result"
   ]
  },
  {
   "cell_type": "code",
   "execution_count": 15,
   "metadata": {},
   "outputs": [
    {
     "name": "stdout",
     "output_type": "stream",
     "text": [
      "accuracy is 0.92604\n",
      "precision is 0.92791\n",
      "recall is 0.92604\n"
     ]
    }
   ],
   "source": [
    "StratKfold = StratifiedKFold(n_splits=5, shuffle=True, random_state=21)\n",
    "final_estimator = LogisticRegression(solver='liblinear')\n",
    "with warnings.catch_warnings():\n",
    "    warnings.simplefilter(\"ignore\")\n",
    "    StackClass = StackingClassifier(estimators=[('svc', svc), ('tree', tree), ('RandForest', RandForest)], cv=StratKfold, passthrough=False, final_estimator=final_estimator)\n",
    "    StackClass.fit(X_train_start, y_train_start)\n",
    "y_pred = StackClass.predict(X_test)\n",
    "accuracy = accuracy_score(y_test, y_pred)\n",
    "precision = precision_score(y_test, y_pred, average='weighted')\n",
    "recall = recall_score(y_test, y_pred, average='weighted')\n",
    "print(f\"accuracy is {accuracy:.5f}\")\n",
    "print(f\"precision is {precision:.5f}\")\n",
    "print(f\"recall is {recall:.5f}\")"
   ]
  },
  {
   "cell_type": "markdown",
   "metadata": {},
   "source": [
    "## 6. Predictions"
   ]
  },
  {
   "cell_type": "markdown",
   "metadata": {},
   "source": [
    "1. Choose the best model in terms of accuracy (if there are several of them with equal values, choose the one with the higher precision).\n",
    "2. Analyze: for which weekday your model makes the most errors (in % of the total number of samples of that class in your full dataset), for which labname and for which users.\n",
    "3. Save the model."
   ]
  },
  {
   "cell_type": "code",
   "execution_count": 16,
   "metadata": {},
   "outputs": [
    {
     "data": {
      "text/plain": [
       "dayofweek  right\n",
       "0          False    5\n",
       "1          False    6\n",
       "2          False    2\n",
       "3          False    2\n",
       "4          False    3\n",
       "5          False    5\n",
       "6          False    2\n",
       "Name: predict, dtype: int64"
      ]
     },
     "execution_count": 16,
     "metadata": {},
     "output_type": "execute_result"
    }
   ],
   "source": [
    "df_train, df_test = train_test_split(df, test_size=0.2, random_state=21, stratify=y)\n",
    "df_test['predict'] = y_pred\n",
    "df_test['right'] = df_test['dayofweek'] == df_test['predict']\n",
    "grouped = df_test[df_test['right'] == False].groupby(['dayofweek', 'right'])['predict'].count()\n",
    "grouped"
   ]
  },
  {
   "cell_type": "markdown",
   "metadata": {},
   "source": [
    "Mondays"
   ]
  },
  {
   "cell_type": "code",
   "execution_count": 17,
   "metadata": {},
   "outputs": [
    {
     "data": {
      "text/plain": [
       "{'labname_laba06': np.float64(77.77777777777779),\n",
       " 'labname_laba04': np.float64(80.0),\n",
       " 'labname_lab05s': np.float64(83.33333333333334),\n",
       " 'labname_laba06s': np.float64(86.66666666666667),\n",
       " 'labname_laba04s': np.float64(92.0),\n",
       " 'labname_code_rvw': np.float64(92.3076923076923),\n",
       " 'labname_project1': np.float64(95.16129032258065),\n",
       " 'labname_laba05': np.float64(97.87234042553192),\n",
       " 'labname_lab03': np.float64(100.0),\n",
       " 'labname_lab03s': np.float64(100.0)}"
      ]
     },
     "execution_count": 17,
     "metadata": {},
     "output_type": "execute_result"
    }
   ],
   "source": [
    "labnames = [col for col in X_test.columns if col.startswith('labname')]\n",
    "lab_err = {}\n",
    "for labname in labnames:\n",
    "    lab = df_test[X_test[labname] == 1]\n",
    "    if len(lab) > 0:\n",
    "        lab_err[labname] = (lab['right'].sum()/ len(lab)) * 100\n",
    "lab_err = dict(sorted(lab_err.items(), key=lambda item: item[1]))\n",
    "lab_err"
   ]
  },
  {
   "cell_type": "markdown",
   "metadata": {},
   "source": [
    "laba06"
   ]
  },
  {
   "cell_type": "code",
   "execution_count": 18,
   "metadata": {},
   "outputs": [
    {
     "data": {
      "text/plain": [
       "{'uid_user_22': np.float64(0.0),\n",
       " 'uid_user_6': np.float64(50.0),\n",
       " 'uid_user_19': np.float64(78.94736842105263),\n",
       " 'uid_user_18': np.float64(83.33333333333334),\n",
       " 'uid_user_27': np.float64(83.33333333333334),\n",
       " 'uid_user_17': np.float64(85.71428571428571),\n",
       " 'uid_user_3': np.float64(85.71428571428571),\n",
       " 'uid_user_30': np.float64(87.5),\n",
       " 'uid_user_31': np.float64(88.88888888888889),\n",
       " 'uid_user_24': np.float64(90.9090909090909),\n",
       " 'uid_user_25': np.float64(90.9090909090909),\n",
       " 'uid_user_29': np.float64(90.9090909090909),\n",
       " 'uid_user_10': np.float64(91.66666666666666),\n",
       " 'uid_user_4': np.float64(92.5925925925926),\n",
       " 'uid_user_2': np.float64(92.85714285714286),\n",
       " 'uid_user_14': np.float64(96.7741935483871),\n",
       " 'uid_user_1': np.float64(100.0),\n",
       " 'uid_user_12': np.float64(100.0),\n",
       " 'uid_user_13': np.float64(100.0),\n",
       " 'uid_user_15': np.float64(100.0),\n",
       " 'uid_user_16': np.float64(100.0),\n",
       " 'uid_user_20': np.float64(100.0),\n",
       " 'uid_user_21': np.float64(100.0),\n",
       " 'uid_user_23': np.float64(100.0),\n",
       " 'uid_user_26': np.float64(100.0),\n",
       " 'uid_user_28': np.float64(100.0),\n",
       " 'uid_user_8': np.float64(100.0)}"
      ]
     },
     "execution_count": 18,
     "metadata": {},
     "output_type": "execute_result"
    }
   ],
   "source": [
    "users = [col for col in X_test.columns if col.startswith('uid')]\n",
    "user_err = {}\n",
    "for user in users:\n",
    "    us = df_test[X_test[user] == 1]\n",
    "    if len(us) > 0:\n",
    "        user_err[user] = (us['right'].sum()/ len(us)) * 100\n",
    "user_err = dict(sorted(user_err.items(), key=lambda item: item[1]))\n",
    "user_err"
   ]
  },
  {
   "cell_type": "markdown",
   "metadata": {},
   "source": [
    "user_22"
   ]
  },
  {
   "cell_type": "code",
   "execution_count": 19,
   "metadata": {},
   "outputs": [
    {
     "data": {
      "text/plain": [
       "['Models/03_Saved_RandForest']"
      ]
     },
     "execution_count": 19,
     "metadata": {},
     "output_type": "execute_result"
    }
   ],
   "source": [
    "dump(RandForest, 'Models/03_Saved_RandForest')"
   ]
  }
 ],
 "metadata": {
  "kernelspec": {
   "display_name": ".venv",
   "language": "python",
   "name": "python3"
  },
  "language_info": {
   "codemirror_mode": {
    "name": "ipython",
    "version": 3
   },
   "file_extension": ".py",
   "mimetype": "text/x-python",
   "name": "python",
   "nbconvert_exporter": "python",
   "pygments_lexer": "ipython3",
   "version": "3.13.3"
  }
 },
 "nbformat": 4,
 "nbformat_minor": 4
}
